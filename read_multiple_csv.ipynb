{
 "cells": [
  {
   "cell_type": "code",
   "execution_count": 57,
   "metadata": {},
   "outputs": [],
   "source": [
    "import pandas as pd\n",
    "import glob\n",
    "import os\n",
    "from datetime import datetime, timedelta"
   ]
  },
  {
   "cell_type": "code",
   "execution_count": 47,
   "metadata": {},
   "outputs": [],
   "source": [
    "# df = pd.read_csv(\"path\")\n",
    "# df.head(10)"
   ]
  },
  {
   "cell_type": "code",
   "execution_count": 48,
   "metadata": {},
   "outputs": [],
   "source": [
    "# Function one : Read multiple csv file in folder\n",
    "folder = \"path\"\n",
    "csv_f = glob.glob(os.path.join(folder,'*.csv'))\n",
    "dfs = []\n",
    "\n",
    "# Iterate over each CSV file\n",
    "for file_path in csv_f:\n",
    "    df = pd.read_csv(file_path)\n",
    "    dfs.append(df)"
   ]
  },
  {
   "cell_type": "code",
   "execution_count": 49,
   "metadata": {},
   "outputs": [],
   "source": [
    "# In this line code append data table and sort value in dataframe\n",
    "combined_df = pd.concat(dfs, ignore_index=True)\n",
    "combined_df.sort_values(by='Month',ascending=True, inplace=True)"
   ]
  },
  {
   "cell_type": "code",
   "execution_count": 50,
   "metadata": {},
   "outputs": [
    {
     "data": {
      "text/html": [
       "<div>\n",
       "<style scoped>\n",
       "    .dataframe tbody tr th:only-of-type {\n",
       "        vertical-align: middle;\n",
       "    }\n",
       "\n",
       "    .dataframe tbody tr th {\n",
       "        vertical-align: top;\n",
       "    }\n",
       "\n",
       "    .dataframe thead th {\n",
       "        text-align: right;\n",
       "    }\n",
       "</style>\n",
       "<table border=\"1\" class=\"dataframe\">\n",
       "  <thead>\n",
       "    <tr style=\"text-align: right;\">\n",
       "      <th></th>\n",
       "      <th>InvoiceNo</th>\n",
       "      <th>StockCode</th>\n",
       "      <th>Description</th>\n",
       "      <th>Quantity</th>\n",
       "      <th>InvoiceDate</th>\n",
       "      <th>UnitPrice</th>\n",
       "      <th>CustomerID</th>\n",
       "      <th>Country</th>\n",
       "      <th>Price</th>\n",
       "      <th>Month</th>\n",
       "    </tr>\n",
       "  </thead>\n",
       "  <tbody>\n",
       "    <tr>\n",
       "      <th>47185</th>\n",
       "      <td>544434</td>\n",
       "      <td>21935</td>\n",
       "      <td>SUKI  SHOULDER BAG</td>\n",
       "      <td>1</td>\n",
       "      <td>40592.67500</td>\n",
       "      <td>3.29</td>\n",
       "      <td>NaN</td>\n",
       "      <td>United Kingdom</td>\n",
       "      <td>3.29</td>\n",
       "      <td>2</td>\n",
       "    </tr>\n",
       "    <tr>\n",
       "      <th>39146</th>\n",
       "      <td>543604</td>\n",
       "      <td>22861</td>\n",
       "      <td>EASTER TIN CHICKS IN GARDEN</td>\n",
       "      <td>6</td>\n",
       "      <td>40584.57917</td>\n",
       "      <td>1.65</td>\n",
       "      <td>16558.0</td>\n",
       "      <td>United Kingdom</td>\n",
       "      <td>9.90</td>\n",
       "      <td>2</td>\n",
       "    </tr>\n",
       "    <tr>\n",
       "      <th>39147</th>\n",
       "      <td>543604</td>\n",
       "      <td>21717</td>\n",
       "      <td>EASTER TIN BUCKET</td>\n",
       "      <td>8</td>\n",
       "      <td>40584.57917</td>\n",
       "      <td>2.55</td>\n",
       "      <td>16558.0</td>\n",
       "      <td>United Kingdom</td>\n",
       "      <td>20.40</td>\n",
       "      <td>2</td>\n",
       "    </tr>\n",
       "    <tr>\n",
       "      <th>39148</th>\n",
       "      <td>C543605</td>\n",
       "      <td>82486</td>\n",
       "      <td>WOOD S/3 CABINET ANT WHITE FINISH</td>\n",
       "      <td>-4</td>\n",
       "      <td>40584.59097</td>\n",
       "      <td>8.95</td>\n",
       "      <td>13110.0</td>\n",
       "      <td>United Kingdom</td>\n",
       "      <td>-35.80</td>\n",
       "      <td>2</td>\n",
       "    </tr>\n",
       "    <tr>\n",
       "      <th>39149</th>\n",
       "      <td>C543606</td>\n",
       "      <td>22963</td>\n",
       "      <td>JAM JAR WITH GREEN LID</td>\n",
       "      <td>-1</td>\n",
       "      <td>40584.59236</td>\n",
       "      <td>0.85</td>\n",
       "      <td>14665.0</td>\n",
       "      <td>United Kingdom</td>\n",
       "      <td>-0.85</td>\n",
       "      <td>2</td>\n",
       "    </tr>\n",
       "  </tbody>\n",
       "</table>\n",
       "</div>"
      ],
      "text/plain": [
       "      InvoiceNo StockCode                        Description  Quantity  \\\n",
       "47185    544434     21935                 SUKI  SHOULDER BAG         1   \n",
       "39146    543604     22861        EASTER TIN CHICKS IN GARDEN         6   \n",
       "39147    543604     21717                  EASTER TIN BUCKET         8   \n",
       "39148   C543605     82486  WOOD S/3 CABINET ANT WHITE FINISH        -4   \n",
       "39149   C543606     22963             JAM JAR WITH GREEN LID        -1   \n",
       "\n",
       "       InvoiceDate  UnitPrice  CustomerID         Country  Price  Month  \n",
       "47185  40592.67500       3.29         NaN  United Kingdom   3.29      2  \n",
       "39146  40584.57917       1.65     16558.0  United Kingdom   9.90      2  \n",
       "39147  40584.57917       2.55     16558.0  United Kingdom  20.40      2  \n",
       "39148  40584.59097       8.95     13110.0  United Kingdom -35.80      2  \n",
       "39149  40584.59236       0.85     14665.0  United Kingdom  -0.85      2  "
      ]
     },
     "execution_count": 50,
     "metadata": {},
     "output_type": "execute_result"
    }
   ],
   "source": [
    "# Function two : Fix data type float64 to Datetime in columns InvoiceDate\n",
    "excel_epoch = datetime(1899, 12, 30)\n",
    "InvoiceDate = ['InvoiceDate']\n",
    "\n",
    "for date in InvoiceDate:\n",
    "    combined_df['InvoiceDate'] = excel_epoch + pd.to_timedelta(combined_df['InvoiceDate'], unit='D')"
   ]
  },
  {
   "cell_type": "code",
   "execution_count": null,
   "metadata": {},
   "outputs": [],
   "source": [
    "# combined_df.to_csv('path')"
   ]
  }
 ],
 "metadata": {
  "kernelspec": {
   "display_name": "Python 3",
   "language": "python",
   "name": "python3"
  },
  "language_info": {
   "codemirror_mode": {
    "name": "ipython",
    "version": 3
   },
   "file_extension": ".py",
   "mimetype": "text/x-python",
   "name": "python",
   "nbconvert_exporter": "python",
   "pygments_lexer": "ipython3",
   "version": "3.12.4"
  }
 },
 "nbformat": 4,
 "nbformat_minor": 2
}
